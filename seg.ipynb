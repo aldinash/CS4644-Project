{
 "cells": [
  {
   "cell_type": "code",
   "execution_count": null,
   "metadata": {},
   "outputs": [],
   "source": [
    "from utils.data_utils import SpacecraftDataset, train_transforms, valid_transforms\n",
    "from utils.vis_utils import predict_mask, display_random_examples\n",
    "from utils.seg_utils import IoU, SegModel\n",
    "import os\n",
    "import numpy as np\n",
    "import torch\n",
    "import torchvision\n",
    "import torch.nn as nn\n",
    "import torch.nn.functional as F\n",
    "import pytorch_lightning as pl\n",
    "import albumentations as A\n",
    "import cv2\n",
    "import matplotlib.pyplot as plt\n",
    "import wandb\n",
    "from pytorch_lightning.loggers import WandbLogger\n",
    "from pytorch_lightning.callbacks import (\n",
    "    EarlyStopping,\n",
    "    LearningRateMonitor,\n",
    "    ModelCheckpoint,\n",
    ")\n",
    "from torch.utils.data import DataLoader, Dataset\n",
    "from albumentations.pytorch.transforms import ToTensorV2\n",
    "from pathlib import Path\n",
    "from tqdm import tqdm"
   ]
  },
  {
   "cell_type": "code",
   "execution_count": null,
   "metadata": {},
   "outputs": [],
   "source": [
    "DATA = Path(\"data\")\n",
    "WORKING=Path(\"working\")\n",
    "\n",
    "BATCH_SIZE=32"
   ]
  },
  {
   "cell_type": "markdown",
   "metadata": {},
   "source": [
    "**DataSet**\n",
    "\n",
    "Here we create a torch dataset for our data\n"
   ]
  },
  {
   "cell_type": "code",
   "execution_count": null,
   "metadata": {},
   "outputs": [],
   "source": [
    "valid_transforms = A.Compose([A.Resize(520, 520), A.Normalize(), ToTensorV2()])\n",
    "\n",
    "train_dataset = SpacecraftDataset(transforms=train_transforms)\n",
    "valid_dataset = SpacecraftDataset(transforms=valid_transforms, split=\"val\")"
   ]
  },
  {
   "cell_type": "code",
   "execution_count": null,
   "metadata": {},
   "outputs": [],
   "source": [
    "display_random_examples(train_dataset)"
   ]
  },
  {
   "cell_type": "code",
   "execution_count": null,
   "metadata": {},
   "outputs": [],
   "source": [
    "model = torchvision.models.segmentation.deeplabv3_mobilenet_v3_large(weights=\"DEFAULT\")\n",
    "model.classifier[4] = nn.Conv2d(256, 4, kernel_size=(1, 1), stride=(1, 1))\n",
    "model.aux_classifier[4] = nn.Conv2d(10, 4, kernel_size=(1, 1), stride=(1, 1))\n",
    "for params in model.parameters():\n",
    "    params.requires_grad = True\n",
    "\n",
    "all_params = sum(p.numel() for p in model.parameters())\n",
    "train_params = sum(p.numel() for p in model.parameters() if p.requires_grad)\n",
    "print(f\"No of parameters: {all_params}\")\n",
    "print(f\"No of trainable parameters: {train_params}\")"
   ]
  },
  {
   "cell_type": "code",
   "execution_count": null,
   "metadata": {},
   "outputs": [],
   "source": [
    "# maybe we should log everything to wandb but for now jus\n",
    "wandb.login()\n",
    "wandb_logger = WandbLogger(project=\"Spacecrafts\")\n",
    "\n",
    "# The model\n",
    "pl_model = SegModel(model, BATCH_SIZE, 0.02, train_dataset, valid_dataset)\n",
    "checkpoint_callback = ModelCheckpoint(\n",
    "    save_weights_only=True, monitor=\"val_iou\", mode=\"max\"\n",
    ")\n",
    "\n",
    "# Pytorch Lightning Trainer\n",
    "trainer = pl.Trainer(\n",
    "    max_epochs=500,\n",
    "    logger=wandb_logger,\n",
    "    log_every_n_steps=10,\n",
    "    callbacks=[\n",
    "        checkpoint_callback,\n",
    "        LearningRateMonitor(\"epoch\"),\n",
    "        EarlyStopping(monitor=\"val_iou\", mode=\"max\", patience=15),\n",
    "    ],\n",
    ")\n",
    "\n",
    "# Batch size and initial learning rate estimation\n",
    "tuner = pl.tuner.Tuner(trainer)\n",
    "tuner.scale_batch_size(pl_model)\n",
    "tuner.lr_find(pl_model)\n",
    "\n",
    "# Model training\n",
    "trainer.fit(pl_model)\n",
    "\n",
    "# Saving the weights\n",
    "torch.save(pl_model.state_dict(), WORKING / \"spacecrafts.pt\")\n",
    "\n",
    "wandb.finish()"
   ]
  }
 ],
 "metadata": {
  "kernelspec": {
   "display_name": "project-_d5Aw1d2-python",
   "language": "python",
   "name": "python3"
  },
  "language_info": {
   "codemirror_mode": {
    "name": "ipython",
    "version": 3
   },
   "file_extension": ".py",
   "mimetype": "text/x-python",
   "name": "python",
   "nbconvert_exporter": "python",
   "pygments_lexer": "ipython3",
   "version": "3.13.0"
  }
 },
 "nbformat": 4,
 "nbformat_minor": 2
}
